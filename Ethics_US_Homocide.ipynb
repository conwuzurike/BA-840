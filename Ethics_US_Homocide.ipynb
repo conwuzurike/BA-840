{
  "nbformat": 4,
  "nbformat_minor": 0,
  "metadata": {
    "colab": {
      "name": "Ethics - US Homocide.ipynb",
      "provenance": []
    },
    "kernelspec": {
      "name": "python3",
      "display_name": "Python 3"
    },
    "language_info": {
      "name": "python"
    }
  },
  "cells": [
    {
      "cell_type": "code",
      "metadata": {
        "colab": {
          "base_uri": "https://localhost:8080/"
        },
        "id": "3pTBmbe6G0Mf",
        "outputId": "9fa719c5-6fcf-433a-df73-9da2ae58cef1"
      },
      "source": [
        "from google.colab import drive\n",
        "drive.mount('/gdrive')\n",
        "%cd /gdrive/"
      ],
      "execution_count": null,
      "outputs": [
        {
          "output_type": "stream",
          "text": [
            "Mounted at /gdrive\n",
            "/gdrive\n"
          ],
          "name": "stdout"
        }
      ]
    },
    {
      "cell_type": "code",
      "metadata": {
        "colab": {
          "base_uri": "https://localhost:8080/"
        },
        "id": "kqGn3udnKWW_",
        "outputId": "7d6fea3c-eedf-4338-c0d0-f1cc3281a4e8"
      },
      "source": [
        "%cd/gdrive/Shareddrives/BA840"
      ],
      "execution_count": null,
      "outputs": [
        {
          "output_type": "stream",
          "text": [
            "/gdrive/Shareddrives/BA840\n"
          ],
          "name": "stdout"
        }
      ]
    },
    {
      "cell_type": "code",
      "metadata": {
        "id": "Sai4xRYaKial"
      },
      "source": [
        "import pandas as pd\n",
        "import numpy as np"
      ],
      "execution_count": null,
      "outputs": []
    },
    {
      "cell_type": "code",
      "metadata": {
        "colab": {
          "base_uri": "https://localhost:8080/"
        },
        "id": "u33YTO1TNmfe",
        "outputId": "9b2b17b3-4f63-4fc5-b64a-30bd3a797f4e"
      },
      "source": [
        "ls"
      ],
      "execution_count": null,
      "outputs": [
        {
          "output_type": "stream",
          "text": [
            " database.csv  'Group Assignment.pdf'  'Project Ideas.gdoc'\n"
          ],
          "name": "stdout"
        }
      ]
    },
    {
      "cell_type": "code",
      "metadata": {
        "colab": {
          "base_uri": "https://localhost:8080/"
        },
        "id": "urOSuXTUKmfY",
        "outputId": "e48277fc-3811-4872-cbcd-3f34f68a95af"
      },
      "source": [
        "db = pd.read_csv(\"database.csv\")\n",
        "data = pd.read_csv(\"database.csv\")"
      ],
      "execution_count": null,
      "outputs": [
        {
          "output_type": "stream",
          "text": [
            "/usr/local/lib/python3.7/dist-packages/IPython/core/interactiveshell.py:2718: DtypeWarning: Columns (16) have mixed types.Specify dtype option on import or set low_memory=False.\n",
            "  interactivity=interactivity, compiler=compiler, result=result)\n"
          ],
          "name": "stderr"
        }
      ]
    },
    {
      "cell_type": "code",
      "metadata": {
        "colab": {
          "base_uri": "https://localhost:8080/",
          "height": 357
        },
        "id": "0Zs_bh8_N-mf",
        "outputId": "f16db2d0-4c55-4066-a33f-741d49007866"
      },
      "source": [
        "db.head()"
      ],
      "execution_count": null,
      "outputs": [
        {
          "output_type": "execute_result",
          "data": {
            "text/html": [
              "<div>\n",
              "<style scoped>\n",
              "    .dataframe tbody tr th:only-of-type {\n",
              "        vertical-align: middle;\n",
              "    }\n",
              "\n",
              "    .dataframe tbody tr th {\n",
              "        vertical-align: top;\n",
              "    }\n",
              "\n",
              "    .dataframe thead th {\n",
              "        text-align: right;\n",
              "    }\n",
              "</style>\n",
              "<table border=\"1\" class=\"dataframe\">\n",
              "  <thead>\n",
              "    <tr style=\"text-align: right;\">\n",
              "      <th></th>\n",
              "      <th>Record ID</th>\n",
              "      <th>Agency Code</th>\n",
              "      <th>Agency Name</th>\n",
              "      <th>Agency Type</th>\n",
              "      <th>City</th>\n",
              "      <th>State</th>\n",
              "      <th>Year</th>\n",
              "      <th>Month</th>\n",
              "      <th>Incident</th>\n",
              "      <th>Crime Type</th>\n",
              "      <th>Crime Solved</th>\n",
              "      <th>Victim Sex</th>\n",
              "      <th>Victim Age</th>\n",
              "      <th>Victim Race</th>\n",
              "      <th>Victim Ethnicity</th>\n",
              "      <th>Perpetrator Sex</th>\n",
              "      <th>Perpetrator Age</th>\n",
              "      <th>Perpetrator Race</th>\n",
              "      <th>Perpetrator Ethnicity</th>\n",
              "      <th>Relationship</th>\n",
              "      <th>Weapon</th>\n",
              "      <th>Victim Count</th>\n",
              "      <th>Perpetrator Count</th>\n",
              "      <th>Record Source</th>\n",
              "    </tr>\n",
              "  </thead>\n",
              "  <tbody>\n",
              "    <tr>\n",
              "      <th>0</th>\n",
              "      <td>1</td>\n",
              "      <td>AK00101</td>\n",
              "      <td>Anchorage</td>\n",
              "      <td>Municipal Police</td>\n",
              "      <td>Anchorage</td>\n",
              "      <td>Alaska</td>\n",
              "      <td>1980</td>\n",
              "      <td>January</td>\n",
              "      <td>1</td>\n",
              "      <td>Murder or Manslaughter</td>\n",
              "      <td>Yes</td>\n",
              "      <td>Male</td>\n",
              "      <td>14</td>\n",
              "      <td>Native American/Alaska Native</td>\n",
              "      <td>Unknown</td>\n",
              "      <td>Male</td>\n",
              "      <td>15</td>\n",
              "      <td>Native American/Alaska Native</td>\n",
              "      <td>Unknown</td>\n",
              "      <td>Acquaintance</td>\n",
              "      <td>Blunt Object</td>\n",
              "      <td>0</td>\n",
              "      <td>0</td>\n",
              "      <td>FBI</td>\n",
              "    </tr>\n",
              "    <tr>\n",
              "      <th>1</th>\n",
              "      <td>2</td>\n",
              "      <td>AK00101</td>\n",
              "      <td>Anchorage</td>\n",
              "      <td>Municipal Police</td>\n",
              "      <td>Anchorage</td>\n",
              "      <td>Alaska</td>\n",
              "      <td>1980</td>\n",
              "      <td>March</td>\n",
              "      <td>1</td>\n",
              "      <td>Murder or Manslaughter</td>\n",
              "      <td>Yes</td>\n",
              "      <td>Male</td>\n",
              "      <td>43</td>\n",
              "      <td>White</td>\n",
              "      <td>Unknown</td>\n",
              "      <td>Male</td>\n",
              "      <td>42</td>\n",
              "      <td>White</td>\n",
              "      <td>Unknown</td>\n",
              "      <td>Acquaintance</td>\n",
              "      <td>Strangulation</td>\n",
              "      <td>0</td>\n",
              "      <td>0</td>\n",
              "      <td>FBI</td>\n",
              "    </tr>\n",
              "    <tr>\n",
              "      <th>2</th>\n",
              "      <td>3</td>\n",
              "      <td>AK00101</td>\n",
              "      <td>Anchorage</td>\n",
              "      <td>Municipal Police</td>\n",
              "      <td>Anchorage</td>\n",
              "      <td>Alaska</td>\n",
              "      <td>1980</td>\n",
              "      <td>March</td>\n",
              "      <td>2</td>\n",
              "      <td>Murder or Manslaughter</td>\n",
              "      <td>No</td>\n",
              "      <td>Female</td>\n",
              "      <td>30</td>\n",
              "      <td>Native American/Alaska Native</td>\n",
              "      <td>Unknown</td>\n",
              "      <td>Unknown</td>\n",
              "      <td>0</td>\n",
              "      <td>Unknown</td>\n",
              "      <td>Unknown</td>\n",
              "      <td>Unknown</td>\n",
              "      <td>Unknown</td>\n",
              "      <td>0</td>\n",
              "      <td>0</td>\n",
              "      <td>FBI</td>\n",
              "    </tr>\n",
              "    <tr>\n",
              "      <th>3</th>\n",
              "      <td>4</td>\n",
              "      <td>AK00101</td>\n",
              "      <td>Anchorage</td>\n",
              "      <td>Municipal Police</td>\n",
              "      <td>Anchorage</td>\n",
              "      <td>Alaska</td>\n",
              "      <td>1980</td>\n",
              "      <td>April</td>\n",
              "      <td>1</td>\n",
              "      <td>Murder or Manslaughter</td>\n",
              "      <td>Yes</td>\n",
              "      <td>Male</td>\n",
              "      <td>43</td>\n",
              "      <td>White</td>\n",
              "      <td>Unknown</td>\n",
              "      <td>Male</td>\n",
              "      <td>42</td>\n",
              "      <td>White</td>\n",
              "      <td>Unknown</td>\n",
              "      <td>Acquaintance</td>\n",
              "      <td>Strangulation</td>\n",
              "      <td>0</td>\n",
              "      <td>0</td>\n",
              "      <td>FBI</td>\n",
              "    </tr>\n",
              "    <tr>\n",
              "      <th>4</th>\n",
              "      <td>5</td>\n",
              "      <td>AK00101</td>\n",
              "      <td>Anchorage</td>\n",
              "      <td>Municipal Police</td>\n",
              "      <td>Anchorage</td>\n",
              "      <td>Alaska</td>\n",
              "      <td>1980</td>\n",
              "      <td>April</td>\n",
              "      <td>2</td>\n",
              "      <td>Murder or Manslaughter</td>\n",
              "      <td>No</td>\n",
              "      <td>Female</td>\n",
              "      <td>30</td>\n",
              "      <td>Native American/Alaska Native</td>\n",
              "      <td>Unknown</td>\n",
              "      <td>Unknown</td>\n",
              "      <td>0</td>\n",
              "      <td>Unknown</td>\n",
              "      <td>Unknown</td>\n",
              "      <td>Unknown</td>\n",
              "      <td>Unknown</td>\n",
              "      <td>0</td>\n",
              "      <td>1</td>\n",
              "      <td>FBI</td>\n",
              "    </tr>\n",
              "  </tbody>\n",
              "</table>\n",
              "</div>"
            ],
            "text/plain": [
              "   Record ID Agency Code  ... Perpetrator Count Record Source\n",
              "0          1     AK00101  ...                 0           FBI\n",
              "1          2     AK00101  ...                 0           FBI\n",
              "2          3     AK00101  ...                 0           FBI\n",
              "3          4     AK00101  ...                 0           FBI\n",
              "4          5     AK00101  ...                 1           FBI\n",
              "\n",
              "[5 rows x 24 columns]"
            ]
          },
          "metadata": {
            "tags": []
          },
          "execution_count": 7
        }
      ]
    },
    {
      "cell_type": "code",
      "metadata": {
        "id": "nPmKGhEQOANy"
      },
      "source": [
        "dt = db.copy()"
      ],
      "execution_count": null,
      "outputs": []
    },
    {
      "cell_type": "code",
      "metadata": {
        "colab": {
          "base_uri": "https://localhost:8080/"
        },
        "id": "TstL6W4F_O-H",
        "outputId": "55c570f7-7ce0-4244-fc8a-f60044de6d98"
      },
      "source": [
        "dt.info()"
      ],
      "execution_count": null,
      "outputs": [
        {
          "output_type": "stream",
          "text": [
            "<class 'pandas.core.frame.DataFrame'>\n",
            "RangeIndex: 638454 entries, 0 to 638453\n",
            "Data columns (total 21 columns):\n",
            " #   Column             Non-Null Count   Dtype \n",
            "---  ------             --------------   ----- \n",
            " 0   Agency Name        638454 non-null  object\n",
            " 1   Agency Type        638454 non-null  object\n",
            " 2   City               638454 non-null  object\n",
            " 3   State              638454 non-null  object\n",
            " 4   Year               638454 non-null  int64 \n",
            " 5   Month              638454 non-null  object\n",
            " 6   Incident           638454 non-null  int64 \n",
            " 7   Crime Type         638454 non-null  object\n",
            " 8   Crime Solved       638454 non-null  object\n",
            " 9   Victim Sex         638454 non-null  object\n",
            " 10  Victim Age         638454 non-null  int64 \n",
            " 11  Victim Race        638454 non-null  object\n",
            " 12  Victim Ethnicity   638454 non-null  object\n",
            " 13  Perpetrator Sex    638454 non-null  object\n",
            " 14  Perpetrator Age    638454 non-null  object\n",
            " 15  Perpetrator Race   638454 non-null  object\n",
            " 16  Relationship       638454 non-null  object\n",
            " 17  Weapon             638454 non-null  object\n",
            " 18  Victim Count       638454 non-null  int64 \n",
            " 19  Perpetrator Count  638454 non-null  int64 \n",
            " 20  Record Source      638454 non-null  object\n",
            "dtypes: int64(5), object(16)\n",
            "memory usage: 102.3+ MB\n"
          ],
          "name": "stdout"
        }
      ]
    },
    {
      "cell_type": "code",
      "metadata": {
        "colab": {
          "base_uri": "https://localhost:8080/",
          "height": 277
        },
        "id": "037MoTJb_Urn",
        "outputId": "dc50cce2-784c-45b7-f139-8b4c5ecce6be"
      },
      "source": [
        "dt.describe()"
      ],
      "execution_count": null,
      "outputs": [
        {
          "output_type": "execute_result",
          "data": {
            "text/html": [
              "<div>\n",
              "<style scoped>\n",
              "    .dataframe tbody tr th:only-of-type {\n",
              "        vertical-align: middle;\n",
              "    }\n",
              "\n",
              "    .dataframe tbody tr th {\n",
              "        vertical-align: top;\n",
              "    }\n",
              "\n",
              "    .dataframe thead th {\n",
              "        text-align: right;\n",
              "    }\n",
              "</style>\n",
              "<table border=\"1\" class=\"dataframe\">\n",
              "  <thead>\n",
              "    <tr style=\"text-align: right;\">\n",
              "      <th></th>\n",
              "      <th>Year</th>\n",
              "      <th>Incident</th>\n",
              "      <th>Victim Age</th>\n",
              "      <th>Victim Count</th>\n",
              "      <th>Perpetrator Count</th>\n",
              "    </tr>\n",
              "  </thead>\n",
              "  <tbody>\n",
              "    <tr>\n",
              "      <th>count</th>\n",
              "      <td>638454.000000</td>\n",
              "      <td>638454.000000</td>\n",
              "      <td>638454.000000</td>\n",
              "      <td>638454.000000</td>\n",
              "      <td>638454.000000</td>\n",
              "    </tr>\n",
              "    <tr>\n",
              "      <th>mean</th>\n",
              "      <td>1995.801102</td>\n",
              "      <td>22.967924</td>\n",
              "      <td>35.033512</td>\n",
              "      <td>0.123334</td>\n",
              "      <td>0.185224</td>\n",
              "    </tr>\n",
              "    <tr>\n",
              "      <th>std</th>\n",
              "      <td>9.927693</td>\n",
              "      <td>92.149821</td>\n",
              "      <td>41.628306</td>\n",
              "      <td>0.537733</td>\n",
              "      <td>0.585496</td>\n",
              "    </tr>\n",
              "    <tr>\n",
              "      <th>min</th>\n",
              "      <td>1980.000000</td>\n",
              "      <td>0.000000</td>\n",
              "      <td>0.000000</td>\n",
              "      <td>0.000000</td>\n",
              "      <td>0.000000</td>\n",
              "    </tr>\n",
              "    <tr>\n",
              "      <th>25%</th>\n",
              "      <td>1987.000000</td>\n",
              "      <td>1.000000</td>\n",
              "      <td>22.000000</td>\n",
              "      <td>0.000000</td>\n",
              "      <td>0.000000</td>\n",
              "    </tr>\n",
              "    <tr>\n",
              "      <th>50%</th>\n",
              "      <td>1995.000000</td>\n",
              "      <td>2.000000</td>\n",
              "      <td>30.000000</td>\n",
              "      <td>0.000000</td>\n",
              "      <td>0.000000</td>\n",
              "    </tr>\n",
              "    <tr>\n",
              "      <th>75%</th>\n",
              "      <td>2004.000000</td>\n",
              "      <td>10.000000</td>\n",
              "      <td>42.000000</td>\n",
              "      <td>0.000000</td>\n",
              "      <td>0.000000</td>\n",
              "    </tr>\n",
              "    <tr>\n",
              "      <th>max</th>\n",
              "      <td>2014.000000</td>\n",
              "      <td>999.000000</td>\n",
              "      <td>998.000000</td>\n",
              "      <td>10.000000</td>\n",
              "      <td>10.000000</td>\n",
              "    </tr>\n",
              "  </tbody>\n",
              "</table>\n",
              "</div>"
            ],
            "text/plain": [
              "                Year       Incident  ...   Victim Count  Perpetrator Count\n",
              "count  638454.000000  638454.000000  ...  638454.000000      638454.000000\n",
              "mean     1995.801102      22.967924  ...       0.123334           0.185224\n",
              "std         9.927693      92.149821  ...       0.537733           0.585496\n",
              "min      1980.000000       0.000000  ...       0.000000           0.000000\n",
              "25%      1987.000000       1.000000  ...       0.000000           0.000000\n",
              "50%      1995.000000       2.000000  ...       0.000000           0.000000\n",
              "75%      2004.000000      10.000000  ...       0.000000           0.000000\n",
              "max      2014.000000     999.000000  ...      10.000000          10.000000\n",
              "\n",
              "[8 rows x 5 columns]"
            ]
          },
          "metadata": {
            "tags": []
          },
          "execution_count": 19
        }
      ]
    },
    {
      "cell_type": "code",
      "metadata": {
        "id": "XEoidWwOzEp5",
        "colab": {
          "base_uri": "https://localhost:8080/",
          "height": 341
        },
        "outputId": "58f0b215-8313-411f-db1b-6e771e7f95c3"
      },
      "source": [
        "cs = dt[dt[\"Crime Solved\"] == \"Yes\"]\n",
        "cs.head()"
      ],
      "execution_count": null,
      "outputs": [
        {
          "output_type": "execute_result",
          "data": {
            "text/html": [
              "<div>\n",
              "<style scoped>\n",
              "    .dataframe tbody tr th:only-of-type {\n",
              "        vertical-align: middle;\n",
              "    }\n",
              "\n",
              "    .dataframe tbody tr th {\n",
              "        vertical-align: top;\n",
              "    }\n",
              "\n",
              "    .dataframe thead th {\n",
              "        text-align: right;\n",
              "    }\n",
              "</style>\n",
              "<table border=\"1\" class=\"dataframe\">\n",
              "  <thead>\n",
              "    <tr style=\"text-align: right;\">\n",
              "      <th></th>\n",
              "      <th>Agency Name</th>\n",
              "      <th>Agency Type</th>\n",
              "      <th>City</th>\n",
              "      <th>State</th>\n",
              "      <th>Year</th>\n",
              "      <th>Month</th>\n",
              "      <th>Incident</th>\n",
              "      <th>Crime Type</th>\n",
              "      <th>Crime Solved</th>\n",
              "      <th>Victim Sex</th>\n",
              "      <th>Victim Age</th>\n",
              "      <th>Victim Race</th>\n",
              "      <th>Victim Ethnicity</th>\n",
              "      <th>Perpetrator Sex</th>\n",
              "      <th>Perpetrator Age</th>\n",
              "      <th>Perpetrator Race</th>\n",
              "      <th>Relationship</th>\n",
              "      <th>Weapon</th>\n",
              "      <th>Victim Count</th>\n",
              "      <th>Perpetrator Count</th>\n",
              "      <th>Record Source</th>\n",
              "    </tr>\n",
              "  </thead>\n",
              "  <tbody>\n",
              "    <tr>\n",
              "      <th>0</th>\n",
              "      <td>Anchorage</td>\n",
              "      <td>Municipal Police</td>\n",
              "      <td>Anchorage</td>\n",
              "      <td>Alaska</td>\n",
              "      <td>1980</td>\n",
              "      <td>January</td>\n",
              "      <td>1</td>\n",
              "      <td>Murder or Manslaughter</td>\n",
              "      <td>Yes</td>\n",
              "      <td>Male</td>\n",
              "      <td>14</td>\n",
              "      <td>Native American/Alaska Native</td>\n",
              "      <td>Unknown</td>\n",
              "      <td>Male</td>\n",
              "      <td>15</td>\n",
              "      <td>Native American/Alaska Native</td>\n",
              "      <td>Acquaintance</td>\n",
              "      <td>Blunt Object</td>\n",
              "      <td>0</td>\n",
              "      <td>0</td>\n",
              "      <td>FBI</td>\n",
              "    </tr>\n",
              "    <tr>\n",
              "      <th>1</th>\n",
              "      <td>Anchorage</td>\n",
              "      <td>Municipal Police</td>\n",
              "      <td>Anchorage</td>\n",
              "      <td>Alaska</td>\n",
              "      <td>1980</td>\n",
              "      <td>March</td>\n",
              "      <td>1</td>\n",
              "      <td>Murder or Manslaughter</td>\n",
              "      <td>Yes</td>\n",
              "      <td>Male</td>\n",
              "      <td>43</td>\n",
              "      <td>White</td>\n",
              "      <td>Unknown</td>\n",
              "      <td>Male</td>\n",
              "      <td>42</td>\n",
              "      <td>White</td>\n",
              "      <td>Acquaintance</td>\n",
              "      <td>Strangulation</td>\n",
              "      <td>0</td>\n",
              "      <td>0</td>\n",
              "      <td>FBI</td>\n",
              "    </tr>\n",
              "    <tr>\n",
              "      <th>3</th>\n",
              "      <td>Anchorage</td>\n",
              "      <td>Municipal Police</td>\n",
              "      <td>Anchorage</td>\n",
              "      <td>Alaska</td>\n",
              "      <td>1980</td>\n",
              "      <td>April</td>\n",
              "      <td>1</td>\n",
              "      <td>Murder or Manslaughter</td>\n",
              "      <td>Yes</td>\n",
              "      <td>Male</td>\n",
              "      <td>43</td>\n",
              "      <td>White</td>\n",
              "      <td>Unknown</td>\n",
              "      <td>Male</td>\n",
              "      <td>42</td>\n",
              "      <td>White</td>\n",
              "      <td>Acquaintance</td>\n",
              "      <td>Strangulation</td>\n",
              "      <td>0</td>\n",
              "      <td>0</td>\n",
              "      <td>FBI</td>\n",
              "    </tr>\n",
              "    <tr>\n",
              "      <th>5</th>\n",
              "      <td>Anchorage</td>\n",
              "      <td>Municipal Police</td>\n",
              "      <td>Anchorage</td>\n",
              "      <td>Alaska</td>\n",
              "      <td>1980</td>\n",
              "      <td>May</td>\n",
              "      <td>1</td>\n",
              "      <td>Murder or Manslaughter</td>\n",
              "      <td>Yes</td>\n",
              "      <td>Male</td>\n",
              "      <td>30</td>\n",
              "      <td>White</td>\n",
              "      <td>Unknown</td>\n",
              "      <td>Male</td>\n",
              "      <td>36</td>\n",
              "      <td>White</td>\n",
              "      <td>Acquaintance</td>\n",
              "      <td>Rifle</td>\n",
              "      <td>0</td>\n",
              "      <td>0</td>\n",
              "      <td>FBI</td>\n",
              "    </tr>\n",
              "    <tr>\n",
              "      <th>6</th>\n",
              "      <td>Anchorage</td>\n",
              "      <td>Municipal Police</td>\n",
              "      <td>Anchorage</td>\n",
              "      <td>Alaska</td>\n",
              "      <td>1980</td>\n",
              "      <td>May</td>\n",
              "      <td>2</td>\n",
              "      <td>Murder or Manslaughter</td>\n",
              "      <td>Yes</td>\n",
              "      <td>Female</td>\n",
              "      <td>42</td>\n",
              "      <td>Native American/Alaska Native</td>\n",
              "      <td>Unknown</td>\n",
              "      <td>Male</td>\n",
              "      <td>27</td>\n",
              "      <td>Black</td>\n",
              "      <td>Wife</td>\n",
              "      <td>Knife</td>\n",
              "      <td>0</td>\n",
              "      <td>0</td>\n",
              "      <td>FBI</td>\n",
              "    </tr>\n",
              "  </tbody>\n",
              "</table>\n",
              "</div>"
            ],
            "text/plain": [
              "  Agency Name       Agency Type  ... Perpetrator Count Record Source\n",
              "0   Anchorage  Municipal Police  ...                 0           FBI\n",
              "1   Anchorage  Municipal Police  ...                 0           FBI\n",
              "3   Anchorage  Municipal Police  ...                 0           FBI\n",
              "5   Anchorage  Municipal Police  ...                 0           FBI\n",
              "6   Anchorage  Municipal Police  ...                 0           FBI\n",
              "\n",
              "[5 rows x 21 columns]"
            ]
          },
          "metadata": {
            "tags": []
          },
          "execution_count": 25
        }
      ]
    },
    {
      "cell_type": "code",
      "metadata": {
        "id": "d-2UtF1pzHn5",
        "colab": {
          "base_uri": "https://localhost:8080/"
        },
        "outputId": "1844d14f-de90-4719-f738-cded46c88a63"
      },
      "source": [
        "cs['Perpetrator Age'] = cs['Perpetrator Age'].astype(\"int32\")"
      ],
      "execution_count": null,
      "outputs": [
        {
          "output_type": "stream",
          "text": [
            "/usr/local/lib/python3.7/dist-packages/ipykernel_launcher.py:1: SettingWithCopyWarning: \n",
            "A value is trying to be set on a copy of a slice from a DataFrame.\n",
            "Try using .loc[row_indexer,col_indexer] = value instead\n",
            "\n",
            "See the caveats in the documentation: https://pandas.pydata.org/pandas-docs/stable/user_guide/indexing.html#returning-a-view-versus-a-copy\n",
            "  \"\"\"Entry point for launching an IPython kernel.\n"
          ],
          "name": "stderr"
        }
      ]
    },
    {
      "cell_type": "code",
      "metadata": {
        "id": "7EUxV_CSzHli",
        "colab": {
          "base_uri": "https://localhost:8080/",
          "height": 277
        },
        "outputId": "1ee1ed49-9de6-4616-97ee-4183f1710fc7"
      },
      "source": [
        "cs.describe()"
      ],
      "execution_count": null,
      "outputs": [
        {
          "output_type": "execute_result",
          "data": {
            "text/html": [
              "<div>\n",
              "<style scoped>\n",
              "    .dataframe tbody tr th:only-of-type {\n",
              "        vertical-align: middle;\n",
              "    }\n",
              "\n",
              "    .dataframe tbody tr th {\n",
              "        vertical-align: top;\n",
              "    }\n",
              "\n",
              "    .dataframe thead th {\n",
              "        text-align: right;\n",
              "    }\n",
              "</style>\n",
              "<table border=\"1\" class=\"dataframe\">\n",
              "  <thead>\n",
              "    <tr style=\"text-align: right;\">\n",
              "      <th></th>\n",
              "      <th>Year</th>\n",
              "      <th>Incident</th>\n",
              "      <th>Victim Age</th>\n",
              "      <th>Perpetrator Age</th>\n",
              "      <th>Victim Count</th>\n",
              "      <th>Perpetrator Count</th>\n",
              "    </tr>\n",
              "  </thead>\n",
              "  <tbody>\n",
              "    <tr>\n",
              "      <th>count</th>\n",
              "      <td>448172.000000</td>\n",
              "      <td>448172.000000</td>\n",
              "      <td>448172.000000</td>\n",
              "      <td>448172.000000</td>\n",
              "      <td>448172.000000</td>\n",
              "      <td>448172.000000</td>\n",
              "    </tr>\n",
              "    <tr>\n",
              "      <th>mean</th>\n",
              "      <td>1995.630071</td>\n",
              "      <td>21.766726</td>\n",
              "      <td>34.008200</td>\n",
              "      <td>28.898726</td>\n",
              "      <td>0.132614</td>\n",
              "      <td>0.248884</td>\n",
              "    </tr>\n",
              "    <tr>\n",
              "      <th>std</th>\n",
              "      <td>9.995683</td>\n",
              "      <td>93.318677</td>\n",
              "      <td>32.806341</td>\n",
              "      <td>14.364530</td>\n",
              "      <td>0.576816</td>\n",
              "      <td>0.675383</td>\n",
              "    </tr>\n",
              "    <tr>\n",
              "      <th>min</th>\n",
              "      <td>1980.000000</td>\n",
              "      <td>0.000000</td>\n",
              "      <td>0.000000</td>\n",
              "      <td>0.000000</td>\n",
              "      <td>0.000000</td>\n",
              "      <td>0.000000</td>\n",
              "    </tr>\n",
              "    <tr>\n",
              "      <th>25%</th>\n",
              "      <td>1987.000000</td>\n",
              "      <td>1.000000</td>\n",
              "      <td>22.000000</td>\n",
              "      <td>20.000000</td>\n",
              "      <td>0.000000</td>\n",
              "      <td>0.000000</td>\n",
              "    </tr>\n",
              "    <tr>\n",
              "      <th>50%</th>\n",
              "      <td>1995.000000</td>\n",
              "      <td>2.000000</td>\n",
              "      <td>30.000000</td>\n",
              "      <td>26.000000</td>\n",
              "      <td>0.000000</td>\n",
              "      <td>0.000000</td>\n",
              "    </tr>\n",
              "    <tr>\n",
              "      <th>75%</th>\n",
              "      <td>2004.000000</td>\n",
              "      <td>7.000000</td>\n",
              "      <td>42.000000</td>\n",
              "      <td>36.000000</td>\n",
              "      <td>0.000000</td>\n",
              "      <td>0.000000</td>\n",
              "    </tr>\n",
              "    <tr>\n",
              "      <th>max</th>\n",
              "      <td>2014.000000</td>\n",
              "      <td>999.000000</td>\n",
              "      <td>998.000000</td>\n",
              "      <td>99.000000</td>\n",
              "      <td>10.000000</td>\n",
              "      <td>10.000000</td>\n",
              "    </tr>\n",
              "  </tbody>\n",
              "</table>\n",
              "</div>"
            ],
            "text/plain": [
              "                Year       Incident  ...   Victim Count  Perpetrator Count\n",
              "count  448172.000000  448172.000000  ...  448172.000000      448172.000000\n",
              "mean     1995.630071      21.766726  ...       0.132614           0.248884\n",
              "std         9.995683      93.318677  ...       0.576816           0.675383\n",
              "min      1980.000000       0.000000  ...       0.000000           0.000000\n",
              "25%      1987.000000       1.000000  ...       0.000000           0.000000\n",
              "50%      1995.000000       2.000000  ...       0.000000           0.000000\n",
              "75%      2004.000000       7.000000  ...       0.000000           0.000000\n",
              "max      2014.000000     999.000000  ...      10.000000          10.000000\n",
              "\n",
              "[8 rows x 6 columns]"
            ]
          },
          "metadata": {
            "tags": []
          },
          "execution_count": 29
        }
      ]
    },
    {
      "cell_type": "code",
      "metadata": {
        "id": "F-1DwwftCNyP"
      },
      "source": [
        ""
      ],
      "execution_count": null,
      "outputs": []
    },
    {
      "cell_type": "code",
      "metadata": {
        "id": "9xjWGcpazHiL",
        "colab": {
          "base_uri": "https://localhost:8080/",
          "height": 162
        },
        "outputId": "0a9e884c-7c57-487e-c3aa-50ba7a84e3ef"
      },
      "source": [
        "cs.groupby(\"Perpetrator Sex\").mean()[[\"Perpetrator Age\",\"Victim Age\"]]"
      ],
      "execution_count": null,
      "outputs": [
        {
          "output_type": "execute_result",
          "data": {
            "text/html": [
              "<div>\n",
              "<style scoped>\n",
              "    .dataframe tbody tr th:only-of-type {\n",
              "        vertical-align: middle;\n",
              "    }\n",
              "\n",
              "    .dataframe tbody tr th {\n",
              "        vertical-align: top;\n",
              "    }\n",
              "\n",
              "    .dataframe thead th {\n",
              "        text-align: right;\n",
              "    }\n",
              "</style>\n",
              "<table border=\"1\" class=\"dataframe\">\n",
              "  <thead>\n",
              "    <tr style=\"text-align: right;\">\n",
              "      <th></th>\n",
              "      <th>Perpetrator Age</th>\n",
              "      <th>Victim Age</th>\n",
              "    </tr>\n",
              "    <tr>\n",
              "      <th>Perpetrator Sex</th>\n",
              "      <th></th>\n",
              "      <th></th>\n",
              "    </tr>\n",
              "  </thead>\n",
              "  <tbody>\n",
              "    <tr>\n",
              "      <th>Female</th>\n",
              "      <td>31.932307</td>\n",
              "      <td>34.673856</td>\n",
              "    </tr>\n",
              "    <tr>\n",
              "      <th>Male</th>\n",
              "      <td>28.540735</td>\n",
              "      <td>33.928452</td>\n",
              "    </tr>\n",
              "    <tr>\n",
              "      <th>Unknown</th>\n",
              "      <td>0.000000</td>\n",
              "      <td>30.911565</td>\n",
              "    </tr>\n",
              "  </tbody>\n",
              "</table>\n",
              "</div>"
            ],
            "text/plain": [
              "                 Perpetrator Age  Victim Age\n",
              "Perpetrator Sex                             \n",
              "Female                 31.932307   34.673856\n",
              "Male                   28.540735   33.928452\n",
              "Unknown                 0.000000   30.911565"
            ]
          },
          "metadata": {
            "tags": []
          },
          "execution_count": 40
        }
      ]
    },
    {
      "cell_type": "code",
      "metadata": {
        "colab": {
          "base_uri": "https://localhost:8080/",
          "height": 162
        },
        "id": "IkPGBHyHBIz3",
        "outputId": "eaaa7113-0158-4f4f-abcf-1e20288909ae"
      },
      "source": [
        "cs.groupby(\"Perpetrator Sex\").count()[[\"Perpetrator Age\"]]"
      ],
      "execution_count": null,
      "outputs": [
        {
          "output_type": "execute_result",
          "data": {
            "text/html": [
              "<div>\n",
              "<style scoped>\n",
              "    .dataframe tbody tr th:only-of-type {\n",
              "        vertical-align: middle;\n",
              "    }\n",
              "\n",
              "    .dataframe tbody tr th {\n",
              "        vertical-align: top;\n",
              "    }\n",
              "\n",
              "    .dataframe thead th {\n",
              "        text-align: right;\n",
              "    }\n",
              "</style>\n",
              "<table border=\"1\" class=\"dataframe\">\n",
              "  <thead>\n",
              "    <tr style=\"text-align: right;\">\n",
              "      <th></th>\n",
              "      <th>Perpetrator Age</th>\n",
              "    </tr>\n",
              "    <tr>\n",
              "      <th>Perpetrator Sex</th>\n",
              "      <th></th>\n",
              "    </tr>\n",
              "  </thead>\n",
              "  <tbody>\n",
              "    <tr>\n",
              "      <th>Female</th>\n",
              "      <td>48543</td>\n",
              "    </tr>\n",
              "    <tr>\n",
              "      <th>Male</th>\n",
              "      <td>399482</td>\n",
              "    </tr>\n",
              "    <tr>\n",
              "      <th>Unknown</th>\n",
              "      <td>147</td>\n",
              "    </tr>\n",
              "  </tbody>\n",
              "</table>\n",
              "</div>"
            ],
            "text/plain": [
              "                 Perpetrator Age\n",
              "Perpetrator Sex                 \n",
              "Female                     48543\n",
              "Male                      399482\n",
              "Unknown                      147"
            ]
          },
          "metadata": {
            "tags": []
          },
          "execution_count": 42
        }
      ]
    },
    {
      "cell_type": "code",
      "metadata": {
        "id": "h-gYWC5sBeEd"
      },
      "source": [
        ""
      ],
      "execution_count": null,
      "outputs": []
    },
    {
      "cell_type": "code",
      "metadata": {
        "colab": {
          "base_uri": "https://localhost:8080/",
          "height": 248
        },
        "id": "F1gPj4aJCFye",
        "outputId": "ab62f358-d265-4653-d01d-a42103e4ec7e"
      },
      "source": [
        "cs.groupby(\"Perpetrator Race\").describe()[[\"Perpetrator Age\",\"Victim Age\"]]"
      ],
      "execution_count": null,
      "outputs": [
        {
          "output_type": "execute_result",
          "data": {
            "text/html": [
              "<div>\n",
              "<style scoped>\n",
              "    .dataframe tbody tr th:only-of-type {\n",
              "        vertical-align: middle;\n",
              "    }\n",
              "\n",
              "    .dataframe tbody tr th {\n",
              "        vertical-align: top;\n",
              "    }\n",
              "\n",
              "    .dataframe thead tr th {\n",
              "        text-align: left;\n",
              "    }\n",
              "\n",
              "    .dataframe thead tr:last-of-type th {\n",
              "        text-align: right;\n",
              "    }\n",
              "</style>\n",
              "<table border=\"1\" class=\"dataframe\">\n",
              "  <thead>\n",
              "    <tr>\n",
              "      <th></th>\n",
              "      <th colspan=\"8\" halign=\"left\">Perpetrator Age</th>\n",
              "      <th colspan=\"8\" halign=\"left\">Victim Age</th>\n",
              "    </tr>\n",
              "    <tr>\n",
              "      <th></th>\n",
              "      <th>count</th>\n",
              "      <th>mean</th>\n",
              "      <th>std</th>\n",
              "      <th>min</th>\n",
              "      <th>25%</th>\n",
              "      <th>50%</th>\n",
              "      <th>75%</th>\n",
              "      <th>max</th>\n",
              "      <th>count</th>\n",
              "      <th>mean</th>\n",
              "      <th>std</th>\n",
              "      <th>min</th>\n",
              "      <th>25%</th>\n",
              "      <th>50%</th>\n",
              "      <th>75%</th>\n",
              "      <th>max</th>\n",
              "    </tr>\n",
              "    <tr>\n",
              "      <th>Perpetrator Race</th>\n",
              "      <th></th>\n",
              "      <th></th>\n",
              "      <th></th>\n",
              "      <th></th>\n",
              "      <th></th>\n",
              "      <th></th>\n",
              "      <th></th>\n",
              "      <th></th>\n",
              "      <th></th>\n",
              "      <th></th>\n",
              "      <th></th>\n",
              "      <th></th>\n",
              "      <th></th>\n",
              "      <th></th>\n",
              "      <th></th>\n",
              "      <th></th>\n",
              "    </tr>\n",
              "  </thead>\n",
              "  <tbody>\n",
              "    <tr>\n",
              "      <th>Asian/Pacific Islander</th>\n",
              "      <td>6026.0</td>\n",
              "      <td>30.724029</td>\n",
              "      <td>14.054524</td>\n",
              "      <td>0.0</td>\n",
              "      <td>21.0</td>\n",
              "      <td>28.0</td>\n",
              "      <td>39.0</td>\n",
              "      <td>89.0</td>\n",
              "      <td>6026.0</td>\n",
              "      <td>31.412380</td>\n",
              "      <td>17.503964</td>\n",
              "      <td>0.0</td>\n",
              "      <td>20.0</td>\n",
              "      <td>28.0</td>\n",
              "      <td>41.0</td>\n",
              "      <td>99.0</td>\n",
              "    </tr>\n",
              "    <tr>\n",
              "      <th>Black</th>\n",
              "      <td>214344.0</td>\n",
              "      <td>26.576895</td>\n",
              "      <td>13.474601</td>\n",
              "      <td>0.0</td>\n",
              "      <td>19.0</td>\n",
              "      <td>25.0</td>\n",
              "      <td>33.0</td>\n",
              "      <td>99.0</td>\n",
              "      <td>214344.0</td>\n",
              "      <td>32.585993</td>\n",
              "      <td>31.634989</td>\n",
              "      <td>0.0</td>\n",
              "      <td>21.0</td>\n",
              "      <td>28.0</td>\n",
              "      <td>39.0</td>\n",
              "      <td>998.0</td>\n",
              "    </tr>\n",
              "    <tr>\n",
              "      <th>Native American/Alaska Native</th>\n",
              "      <td>3595.0</td>\n",
              "      <td>28.822531</td>\n",
              "      <td>11.518957</td>\n",
              "      <td>0.0</td>\n",
              "      <td>21.0</td>\n",
              "      <td>27.0</td>\n",
              "      <td>35.0</td>\n",
              "      <td>89.0</td>\n",
              "      <td>3595.0</td>\n",
              "      <td>33.570793</td>\n",
              "      <td>24.059879</td>\n",
              "      <td>0.0</td>\n",
              "      <td>22.0</td>\n",
              "      <td>31.0</td>\n",
              "      <td>43.0</td>\n",
              "      <td>998.0</td>\n",
              "    </tr>\n",
              "    <tr>\n",
              "      <th>Unknown</th>\n",
              "      <td>6049.0</td>\n",
              "      <td>14.919821</td>\n",
              "      <td>17.452326</td>\n",
              "      <td>0.0</td>\n",
              "      <td>0.0</td>\n",
              "      <td>0.0</td>\n",
              "      <td>27.0</td>\n",
              "      <td>99.0</td>\n",
              "      <td>6049.0</td>\n",
              "      <td>34.135560</td>\n",
              "      <td>37.291503</td>\n",
              "      <td>0.0</td>\n",
              "      <td>22.0</td>\n",
              "      <td>29.0</td>\n",
              "      <td>40.0</td>\n",
              "      <td>998.0</td>\n",
              "    </tr>\n",
              "    <tr>\n",
              "      <th>White</th>\n",
              "      <td>218158.0</td>\n",
              "      <td>31.518404</td>\n",
              "      <td>14.551579</td>\n",
              "      <td>0.0</td>\n",
              "      <td>22.0</td>\n",
              "      <td>29.0</td>\n",
              "      <td>39.0</td>\n",
              "      <td>99.0</td>\n",
              "      <td>218158.0</td>\n",
              "      <td>35.480922</td>\n",
              "      <td>34.158942</td>\n",
              "      <td>0.0</td>\n",
              "      <td>22.0</td>\n",
              "      <td>31.0</td>\n",
              "      <td>44.0</td>\n",
              "      <td>998.0</td>\n",
              "    </tr>\n",
              "  </tbody>\n",
              "</table>\n",
              "</div>"
            ],
            "text/plain": [
              "                              Perpetrator Age             ... Victim Age       \n",
              "                                        count       mean  ...        75%    max\n",
              "Perpetrator Race                                          ...                  \n",
              "Asian/Pacific Islander                 6026.0  30.724029  ...       41.0   99.0\n",
              "Black                                214344.0  26.576895  ...       39.0  998.0\n",
              "Native American/Alaska Native          3595.0  28.822531  ...       43.0  998.0\n",
              "Unknown                                6049.0  14.919821  ...       40.0  998.0\n",
              "White                                218158.0  31.518404  ...       44.0  998.0\n",
              "\n",
              "[5 rows x 16 columns]"
            ]
          },
          "metadata": {
            "tags": []
          },
          "execution_count": 44
        }
      ]
    },
    {
      "cell_type": "code",
      "metadata": {
        "colab": {
          "base_uri": "https://localhost:8080/",
          "height": 881
        },
        "id": "Lrdlzp6kCGHx",
        "outputId": "c2138044-2ea7-4b15-fc91-459b498e67a1"
      },
      "source": [
        "cs.groupby(\"Relationship\").count()[[\"Incident\"]]"
      ],
      "execution_count": null,
      "outputs": [
        {
          "output_type": "execute_result",
          "data": {
            "text/html": [
              "<div>\n",
              "<style scoped>\n",
              "    .dataframe tbody tr th:only-of-type {\n",
              "        vertical-align: middle;\n",
              "    }\n",
              "\n",
              "    .dataframe tbody tr th {\n",
              "        vertical-align: top;\n",
              "    }\n",
              "\n",
              "    .dataframe thead th {\n",
              "        text-align: right;\n",
              "    }\n",
              "</style>\n",
              "<table border=\"1\" class=\"dataframe\">\n",
              "  <thead>\n",
              "    <tr style=\"text-align: right;\">\n",
              "      <th></th>\n",
              "      <th>Incident</th>\n",
              "    </tr>\n",
              "    <tr>\n",
              "      <th>Relationship</th>\n",
              "      <th></th>\n",
              "    </tr>\n",
              "  </thead>\n",
              "  <tbody>\n",
              "    <tr>\n",
              "      <th>Acquaintance</th>\n",
              "      <td>123852</td>\n",
              "    </tr>\n",
              "    <tr>\n",
              "      <th>Boyfriend</th>\n",
              "      <td>7288</td>\n",
              "    </tr>\n",
              "    <tr>\n",
              "      <th>Boyfriend/Girlfriend</th>\n",
              "      <td>1281</td>\n",
              "    </tr>\n",
              "    <tr>\n",
              "      <th>Brother</th>\n",
              "      <td>5496</td>\n",
              "    </tr>\n",
              "    <tr>\n",
              "      <th>Common-Law Husband</th>\n",
              "      <td>1947</td>\n",
              "    </tr>\n",
              "    <tr>\n",
              "      <th>Common-Law Wife</th>\n",
              "      <td>2470</td>\n",
              "    </tr>\n",
              "    <tr>\n",
              "      <th>Daughter</th>\n",
              "      <td>7487</td>\n",
              "    </tr>\n",
              "    <tr>\n",
              "      <th>Employee</th>\n",
              "      <td>380</td>\n",
              "    </tr>\n",
              "    <tr>\n",
              "      <th>Employer</th>\n",
              "      <td>509</td>\n",
              "    </tr>\n",
              "    <tr>\n",
              "      <th>Ex-Husband</th>\n",
              "      <td>626</td>\n",
              "    </tr>\n",
              "    <tr>\n",
              "      <th>Ex-Wife</th>\n",
              "      <td>1966</td>\n",
              "    </tr>\n",
              "    <tr>\n",
              "      <th>Family</th>\n",
              "      <td>9467</td>\n",
              "    </tr>\n",
              "    <tr>\n",
              "      <th>Father</th>\n",
              "      <td>4353</td>\n",
              "    </tr>\n",
              "    <tr>\n",
              "      <th>Friend</th>\n",
              "      <td>21718</td>\n",
              "    </tr>\n",
              "    <tr>\n",
              "      <th>Girlfriend</th>\n",
              "      <td>16413</td>\n",
              "    </tr>\n",
              "    <tr>\n",
              "      <th>Husband</th>\n",
              "      <td>8777</td>\n",
              "    </tr>\n",
              "    <tr>\n",
              "      <th>In-Law</th>\n",
              "      <td>3628</td>\n",
              "    </tr>\n",
              "    <tr>\n",
              "      <th>Mother</th>\n",
              "      <td>4238</td>\n",
              "    </tr>\n",
              "    <tr>\n",
              "      <th>Neighbor</th>\n",
              "      <td>6258</td>\n",
              "    </tr>\n",
              "    <tr>\n",
              "      <th>Sister</th>\n",
              "      <td>1288</td>\n",
              "    </tr>\n",
              "    <tr>\n",
              "      <th>Son</th>\n",
              "      <td>9842</td>\n",
              "    </tr>\n",
              "    <tr>\n",
              "      <th>Stepdaughter</th>\n",
              "      <td>754</td>\n",
              "    </tr>\n",
              "    <tr>\n",
              "      <th>Stepfather</th>\n",
              "      <td>1358</td>\n",
              "    </tr>\n",
              "    <tr>\n",
              "      <th>Stepmother</th>\n",
              "      <td>211</td>\n",
              "    </tr>\n",
              "    <tr>\n",
              "      <th>Stepson</th>\n",
              "      <td>1169</td>\n",
              "    </tr>\n",
              "    <tr>\n",
              "      <th>Stranger</th>\n",
              "      <td>87362</td>\n",
              "    </tr>\n",
              "    <tr>\n",
              "      <th>Unknown</th>\n",
              "      <td>94892</td>\n",
              "    </tr>\n",
              "    <tr>\n",
              "      <th>Wife</th>\n",
              "      <td>23142</td>\n",
              "    </tr>\n",
              "  </tbody>\n",
              "</table>\n",
              "</div>"
            ],
            "text/plain": [
              "                      Incident\n",
              "Relationship                  \n",
              "Acquaintance            123852\n",
              "Boyfriend                 7288\n",
              "Boyfriend/Girlfriend      1281\n",
              "Brother                   5496\n",
              "Common-Law Husband        1947\n",
              "Common-Law Wife           2470\n",
              "Daughter                  7487\n",
              "Employee                   380\n",
              "Employer                   509\n",
              "Ex-Husband                 626\n",
              "Ex-Wife                   1966\n",
              "Family                    9467\n",
              "Father                    4353\n",
              "Friend                   21718\n",
              "Girlfriend               16413\n",
              "Husband                   8777\n",
              "In-Law                    3628\n",
              "Mother                    4238\n",
              "Neighbor                  6258\n",
              "Sister                    1288\n",
              "Son                       9842\n",
              "Stepdaughter               754\n",
              "Stepfather                1358\n",
              "Stepmother                 211\n",
              "Stepson                   1169\n",
              "Stranger                 87362\n",
              "Unknown                  94892\n",
              "Wife                     23142"
            ]
          },
          "metadata": {
            "tags": []
          },
          "execution_count": 48
        }
      ]
    },
    {
      "cell_type": "code",
      "metadata": {
        "id": "NNo71jDyFInN"
      },
      "source": [
        ""
      ],
      "execution_count": null,
      "outputs": []
    },
    {
      "cell_type": "code",
      "metadata": {
        "id": "ffJ-wj25GbpQ"
      },
      "source": [
        "data = data[data['Crime Solved'] == 'Yes']\n",
        "cols_to_drop += ['Crime Solved']"
      ],
      "execution_count": null,
      "outputs": []
    },
    {
      "cell_type": "code",
      "metadata": {
        "id": "jxfXSsuSGpp2"
      },
      "source": [
        "data['Perpetrator Age'] = data['Perpetrator Age'].astype(\"int64\")"
      ],
      "execution_count": null,
      "outputs": []
    },
    {
      "cell_type": "code",
      "metadata": {
        "id": "VXBdts1uGcnq"
      },
      "source": [
        "data['Perpetrator Age category'] = np.where(data['Perpetrator Age'] > 64, 'Elder', np.where(data['Perpetrator Age'] < 25, 'Young', 'Adult'))"
      ],
      "execution_count": null,
      "outputs": []
    },
    {
      "cell_type": "code",
      "metadata": {
        "id": "Vz24QLEGF7KK"
      },
      "source": [
        "Y_columns = ['Perpetrator Sex', 'Perpetrator Race', 'Perpetrator Age category']\n",
        "ignore_columns = ['Crime Solved']\n",
        "cat_columns = []\n",
        "num_columns = []\n",
        "\n",
        "for col in data.columns.values:\n",
        "    if col in Y_columns+ignore_columns:\n",
        "        continue\n",
        "    elif data[col].dtypes == 'int64':\n",
        "        num_columns += [col]\n",
        "    else:\n",
        "        cat_columns += [col]"
      ],
      "execution_count": null,
      "outputs": []
    },
    {
      "cell_type": "code",
      "metadata": {
        "colab": {
          "base_uri": "https://localhost:8080/"
        },
        "id": "zj7M9UTSHTGg",
        "outputId": "fcda4c08-96b2-46e1-e8c7-9f39eccdcd62"
      },
      "source": [
        "median_val = pd.Series()\n",
        "for col in num_columns:\n",
        "    if col not in cols_to_drop:\n",
        "        median_val[col] = data[col].median()"
      ],
      "execution_count": null,
      "outputs": [
        {
          "output_type": "stream",
          "text": [
            "/usr/local/lib/python3.7/dist-packages/ipykernel_launcher.py:1: DeprecationWarning: The default dtype for empty Series will be 'object' instead of 'float64' in a future version. Specify a dtype explicitly to silence this warning.\n",
            "  \"\"\"Entry point for launching an IPython kernel.\n"
          ],
          "name": "stderr"
        }
      ]
    },
    {
      "cell_type": "code",
      "metadata": {
        "id": "qzZqufAYHadW"
      },
      "source": [
        "data = handle_missing_values(data, median_val)\n"
      ],
      "execution_count": null,
      "outputs": []
    },
    {
      "cell_type": "code",
      "metadata": {
        "id": "40_1fhhYHaZV"
      },
      "source": [
        "data.drop(cols_to_drop, axis=1, inplace=True)\n"
      ],
      "execution_count": null,
      "outputs": []
    },
    {
      "cell_type": "code",
      "metadata": {
        "id": "Njb2rRO3HYEQ"
      },
      "source": [
        "def handle_missing_values(data, median_val):\n",
        "    df = data.copy()\n",
        "    for col in df:\n",
        "        if col in median_val.index.values:\n",
        "            df[col] = df[col].fillna(median_val[col])\n",
        "        else:\n",
        "            df[col] = df[col].fillna(\"Missing value\")\n",
        "    \n",
        "    return df"
      ],
      "execution_count": null,
      "outputs": []
    },
    {
      "cell_type": "code",
      "metadata": {
        "id": "7IlSwc3dH26w"
      },
      "source": [
        ""
      ],
      "execution_count": null,
      "outputs": []
    },
    {
      "cell_type": "code",
      "metadata": {
        "id": "OYReDSOuF7Hq"
      },
      "source": [
        "categorical_features = cat_columns + ['Perpetrator Sex', 'Perpetrator Race', 'Perpetrator Age category']\n",
        "# categorical_features = categorical_features \n",
        "categorical_features_idx = [np.where(data.columns.values == col)[0][0] for col in categorical_features]\n",
        "\n",
        "del cat_columns"
      ],
      "execution_count": null,
      "outputs": []
    },
    {
      "cell_type": "code",
      "metadata": {
        "id": "vuZmn_ieIHP8"
      },
      "source": [
        "from sklearn.preprocessing import MinMaxScaler, LabelEncoder"
      ],
      "execution_count": null,
      "outputs": []
    },
    {
      "cell_type": "code",
      "metadata": {
        "id": "aQ_6OZgWF7FK"
      },
      "source": [
        "data_encoded = data.copy()\n",
        "\n",
        "categorical_names = {}\n",
        "encoders = {}\n",
        "\n",
        "# Use Label Encoder for categorical columns (including target column)\n",
        "for feature in categorical_features:\n",
        "    le = LabelEncoder()\n",
        "    le.fit(data_encoded[feature])\n",
        "    \n",
        "    data_encoded[feature] = le.transform(data_encoded[feature])\n",
        "    \n",
        "    categorical_names[feature] = le.classes_\n",
        "    encoders[feature] = le"
      ],
      "execution_count": null,
      "outputs": []
    },
    {
      "cell_type": "code",
      "metadata": {
        "id": "kIDoNmtJF-NK"
      },
      "source": [
        "numerical_features = [c for c in data.columns.values if c not in categorical_features]\n",
        "\n",
        "for feature in numerical_features:\n",
        "    val = data_encoded[feature].values[:, np.newaxis]\n",
        "    mms = MinMaxScaler().fit(val)\n",
        "    data_encoded[feature] = mms.transform(val)\n",
        "    encoders[feature] = mms\n",
        "    \n",
        "data_encoded = data_encoded.astype(float)\n",
        "\n",
        "del num_columns"
      ],
      "execution_count": null,
      "outputs": []
    },
    {
      "cell_type": "code",
      "metadata": {
        "id": "6lt3ApyRIKwt"
      },
      "source": [
        "def decode_dataset(data, encoders, numerical_features, categorical_features):\n",
        "    df = data.copy()\n",
        "    for feat in df.columns.values:\n",
        "        if feat in numerical_features:\n",
        "            df[feat] = encoders[feat].inverse_transform(np.array(df[feat]).reshape(-1, 1))\n",
        "    for feat in categorical_features:\n",
        "        df[feat] = encoders[feat].inverse_transform(df[feat].astype(int))\n",
        "    return df"
      ],
      "execution_count": null,
      "outputs": []
    },
    {
      "cell_type": "code",
      "metadata": {
        "colab": {
          "base_uri": "https://localhost:8080/",
          "height": 357
        },
        "id": "KncXDziBIXJG",
        "outputId": "3db7d598-b6d4-496f-b597-bdee46b9acff"
      },
      "source": [
        "decode_dataset(data_encoded, encoders=encoders, numerical_features=numerical_features, categorical_features=categorical_features).head()"
      ],
      "execution_count": null,
      "outputs": [
        {
          "output_type": "execute_result",
          "data": {
            "text/html": [
              "<div>\n",
              "<style scoped>\n",
              "    .dataframe tbody tr th:only-of-type {\n",
              "        vertical-align: middle;\n",
              "    }\n",
              "\n",
              "    .dataframe tbody tr th {\n",
              "        vertical-align: top;\n",
              "    }\n",
              "\n",
              "    .dataframe thead th {\n",
              "        text-align: right;\n",
              "    }\n",
              "</style>\n",
              "<table border=\"1\" class=\"dataframe\">\n",
              "  <thead>\n",
              "    <tr style=\"text-align: right;\">\n",
              "      <th></th>\n",
              "      <th>Record ID</th>\n",
              "      <th>Agency Code</th>\n",
              "      <th>Agency Name</th>\n",
              "      <th>Agency Type</th>\n",
              "      <th>City</th>\n",
              "      <th>State</th>\n",
              "      <th>Year</th>\n",
              "      <th>Month</th>\n",
              "      <th>Incident</th>\n",
              "      <th>Crime Type</th>\n",
              "      <th>Victim Sex</th>\n",
              "      <th>Victim Age</th>\n",
              "      <th>Victim Race</th>\n",
              "      <th>Victim Ethnicity</th>\n",
              "      <th>Perpetrator Sex</th>\n",
              "      <th>Perpetrator Age</th>\n",
              "      <th>Perpetrator Race</th>\n",
              "      <th>Perpetrator Ethnicity</th>\n",
              "      <th>Relationship</th>\n",
              "      <th>Weapon</th>\n",
              "      <th>Victim Count</th>\n",
              "      <th>Perpetrator Count</th>\n",
              "      <th>Record Source</th>\n",
              "      <th>Perpetrator Age category</th>\n",
              "    </tr>\n",
              "  </thead>\n",
              "  <tbody>\n",
              "    <tr>\n",
              "      <th>0</th>\n",
              "      <td>1.0</td>\n",
              "      <td>AK00101</td>\n",
              "      <td>Anchorage</td>\n",
              "      <td>Municipal Police</td>\n",
              "      <td>Anchorage</td>\n",
              "      <td>Alaska</td>\n",
              "      <td>1980.0</td>\n",
              "      <td>January</td>\n",
              "      <td>1.0</td>\n",
              "      <td>Murder or Manslaughter</td>\n",
              "      <td>Male</td>\n",
              "      <td>14.0</td>\n",
              "      <td>Native American/Alaska Native</td>\n",
              "      <td>Unknown</td>\n",
              "      <td>Male</td>\n",
              "      <td>15.0</td>\n",
              "      <td>Native American/Alaska Native</td>\n",
              "      <td>Unknown</td>\n",
              "      <td>Acquaintance</td>\n",
              "      <td>Blunt Object</td>\n",
              "      <td>0.0</td>\n",
              "      <td>0.0</td>\n",
              "      <td>FBI</td>\n",
              "      <td>Young</td>\n",
              "    </tr>\n",
              "    <tr>\n",
              "      <th>1</th>\n",
              "      <td>2.0</td>\n",
              "      <td>AK00101</td>\n",
              "      <td>Anchorage</td>\n",
              "      <td>Municipal Police</td>\n",
              "      <td>Anchorage</td>\n",
              "      <td>Alaska</td>\n",
              "      <td>1980.0</td>\n",
              "      <td>March</td>\n",
              "      <td>1.0</td>\n",
              "      <td>Murder or Manslaughter</td>\n",
              "      <td>Male</td>\n",
              "      <td>43.0</td>\n",
              "      <td>White</td>\n",
              "      <td>Unknown</td>\n",
              "      <td>Male</td>\n",
              "      <td>42.0</td>\n",
              "      <td>White</td>\n",
              "      <td>Unknown</td>\n",
              "      <td>Acquaintance</td>\n",
              "      <td>Strangulation</td>\n",
              "      <td>0.0</td>\n",
              "      <td>0.0</td>\n",
              "      <td>FBI</td>\n",
              "      <td>Adult</td>\n",
              "    </tr>\n",
              "    <tr>\n",
              "      <th>3</th>\n",
              "      <td>4.0</td>\n",
              "      <td>AK00101</td>\n",
              "      <td>Anchorage</td>\n",
              "      <td>Municipal Police</td>\n",
              "      <td>Anchorage</td>\n",
              "      <td>Alaska</td>\n",
              "      <td>1980.0</td>\n",
              "      <td>April</td>\n",
              "      <td>1.0</td>\n",
              "      <td>Murder or Manslaughter</td>\n",
              "      <td>Male</td>\n",
              "      <td>43.0</td>\n",
              "      <td>White</td>\n",
              "      <td>Unknown</td>\n",
              "      <td>Male</td>\n",
              "      <td>42.0</td>\n",
              "      <td>White</td>\n",
              "      <td>Unknown</td>\n",
              "      <td>Acquaintance</td>\n",
              "      <td>Strangulation</td>\n",
              "      <td>0.0</td>\n",
              "      <td>0.0</td>\n",
              "      <td>FBI</td>\n",
              "      <td>Adult</td>\n",
              "    </tr>\n",
              "    <tr>\n",
              "      <th>5</th>\n",
              "      <td>6.0</td>\n",
              "      <td>AK00101</td>\n",
              "      <td>Anchorage</td>\n",
              "      <td>Municipal Police</td>\n",
              "      <td>Anchorage</td>\n",
              "      <td>Alaska</td>\n",
              "      <td>1980.0</td>\n",
              "      <td>May</td>\n",
              "      <td>1.0</td>\n",
              "      <td>Murder or Manslaughter</td>\n",
              "      <td>Male</td>\n",
              "      <td>30.0</td>\n",
              "      <td>White</td>\n",
              "      <td>Unknown</td>\n",
              "      <td>Male</td>\n",
              "      <td>36.0</td>\n",
              "      <td>White</td>\n",
              "      <td>Unknown</td>\n",
              "      <td>Acquaintance</td>\n",
              "      <td>Rifle</td>\n",
              "      <td>0.0</td>\n",
              "      <td>0.0</td>\n",
              "      <td>FBI</td>\n",
              "      <td>Adult</td>\n",
              "    </tr>\n",
              "    <tr>\n",
              "      <th>6</th>\n",
              "      <td>7.0</td>\n",
              "      <td>AK00101</td>\n",
              "      <td>Anchorage</td>\n",
              "      <td>Municipal Police</td>\n",
              "      <td>Anchorage</td>\n",
              "      <td>Alaska</td>\n",
              "      <td>1980.0</td>\n",
              "      <td>May</td>\n",
              "      <td>2.0</td>\n",
              "      <td>Murder or Manslaughter</td>\n",
              "      <td>Female</td>\n",
              "      <td>42.0</td>\n",
              "      <td>Native American/Alaska Native</td>\n",
              "      <td>Unknown</td>\n",
              "      <td>Male</td>\n",
              "      <td>27.0</td>\n",
              "      <td>Black</td>\n",
              "      <td>Unknown</td>\n",
              "      <td>Wife</td>\n",
              "      <td>Knife</td>\n",
              "      <td>0.0</td>\n",
              "      <td>0.0</td>\n",
              "      <td>FBI</td>\n",
              "      <td>Adult</td>\n",
              "    </tr>\n",
              "  </tbody>\n",
              "</table>\n",
              "</div>"
            ],
            "text/plain": [
              "   Record ID Agency Code  ... Record Source Perpetrator Age category\n",
              "0        1.0     AK00101  ...           FBI                    Young\n",
              "1        2.0     AK00101  ...           FBI                    Adult\n",
              "3        4.0     AK00101  ...           FBI                    Adult\n",
              "5        6.0     AK00101  ...           FBI                    Adult\n",
              "6        7.0     AK00101  ...           FBI                    Adult\n",
              "\n",
              "[5 rows x 24 columns]"
            ]
          },
          "metadata": {
            "tags": []
          },
          "execution_count": 72
        }
      ]
    },
    {
      "cell_type": "code",
      "metadata": {
        "id": "cUig0qVIIXbZ"
      },
      "source": [
        "data_perp_sex = data_encoded.drop(['Perpetrator Race','Perpetrator Age category','Perpetrator Age'], axis=1)"
      ],
      "execution_count": null,
      "outputs": []
    },
    {
      "cell_type": "code",
      "metadata": {
        "id": "aUohmmeoIaI8"
      },
      "source": [
        "privileged_sex = np.where(categorical_names['Victim Sex'] == 'Male')[0]\n",
        "privileged_race = np.where(categorical_names['Victim Race'] == 'White')[0]"
      ],
      "execution_count": null,
      "outputs": []
    },
    {
      "cell_type": "code",
      "metadata": {
        "id": "nNwYWVLvJB3U"
      },
      "source": [
        "pip install aif360"
      ],
      "execution_count": null,
      "outputs": []
    },
    {
      "cell_type": "code",
      "metadata": {
        "id": "pkcWvhduJAg5"
      },
      "source": [
        "from aif360.datasets import StandardDataset\n"
      ],
      "execution_count": null,
      "outputs": []
    },
    {
      "cell_type": "code",
      "metadata": {
        "id": "ABd8J8DKI1Nh"
      },
      "source": [
        "data_orig_sex = StandardDataset(data_perp_sex, \n",
        "                               label_name='Perpetrator Sex', \n",
        "                               favorable_classes=[1], \n",
        "                               protected_attribute_names=['Victim Sex', 'Victim Race'], \n",
        "                               privileged_classes=[privileged_sex, privileged_race])"
      ],
      "execution_count": null,
      "outputs": []
    },
    {
      "cell_type": "code",
      "metadata": {
        "id": "aAeQqs5FJ5q8"
      },
      "source": [
        "def meta_data(dataset):\n",
        "    # print out some labels, names, etc.\n",
        "    display(Markdown(\"#### Dataset shape\"))\n",
        "    print(dataset.features.shape)\n",
        "    display(Markdown(\"#### Favorable and unfavorable labels\"))\n",
        "    print(dataset.favorable_label, dataset.unfavorable_label)\n",
        "    display(Markdown(\"#### Protected attribute names\"))\n",
        "    print(dataset.protected_attribute_names)\n",
        "    display(Markdown(\"#### Privileged and unprivileged protected attribute values\"))\n",
        "    print(dataset.privileged_protected_attributes, dataset.unprivileged_protected_attributes)\n",
        "    display(Markdown(\"#### Dataset feature names\"))\n",
        "    print(dataset.feature_names)"
      ],
      "execution_count": null,
      "outputs": []
    },
    {
      "cell_type": "code",
      "metadata": {
        "id": "3wcbY1D_J_W7"
      },
      "source": [
        "from IPython.display import Markdown, display"
      ],
      "execution_count": null,
      "outputs": []
    },
    {
      "cell_type": "code",
      "metadata": {
        "colab": {
          "base_uri": "https://localhost:8080/",
          "height": 312
        },
        "id": "ZRf950mcJt-d",
        "outputId": "cbb9a24a-92be-48c2-9acb-bc5a102bae95"
      },
      "source": [
        "meta_data(data_orig_sex)"
      ],
      "execution_count": null,
      "outputs": [
        {
          "output_type": "display_data",
          "data": {
            "text/markdown": "#### Dataset shape",
            "text/plain": [
              "<IPython.core.display.Markdown object>"
            ]
          },
          "metadata": {
            "tags": []
          }
        },
        {
          "output_type": "stream",
          "text": [
            "(448172, 20)\n"
          ],
          "name": "stdout"
        },
        {
          "output_type": "display_data",
          "data": {
            "text/markdown": "#### Favorable and unfavorable labels",
            "text/plain": [
              "<IPython.core.display.Markdown object>"
            ]
          },
          "metadata": {
            "tags": []
          }
        },
        {
          "output_type": "stream",
          "text": [
            "1.0 0.0\n"
          ],
          "name": "stdout"
        },
        {
          "output_type": "display_data",
          "data": {
            "text/markdown": "#### Protected attribute names",
            "text/plain": [
              "<IPython.core.display.Markdown object>"
            ]
          },
          "metadata": {
            "tags": []
          }
        },
        {
          "output_type": "stream",
          "text": [
            "['Victim Sex', 'Victim Race']\n"
          ],
          "name": "stdout"
        },
        {
          "output_type": "display_data",
          "data": {
            "text/markdown": "#### Privileged and unprivileged protected attribute values",
            "text/plain": [
              "<IPython.core.display.Markdown object>"
            ]
          },
          "metadata": {
            "tags": []
          }
        },
        {
          "output_type": "stream",
          "text": [
            "[array([1.]), array([4.])] [array([0., 2.]), array([0., 1., 2., 3.])]\n"
          ],
          "name": "stdout"
        },
        {
          "output_type": "display_data",
          "data": {
            "text/markdown": "#### Dataset feature names",
            "text/plain": [
              "<IPython.core.display.Markdown object>"
            ]
          },
          "metadata": {
            "tags": []
          }
        },
        {
          "output_type": "stream",
          "text": [
            "['Record ID', 'Agency Code', 'Agency Name', 'Agency Type', 'City', 'State', 'Year', 'Month', 'Incident', 'Crime Type', 'Victim Sex', 'Victim Age', 'Victim Race', 'Victim Ethnicity', 'Perpetrator Ethnicity', 'Relationship', 'Weapon', 'Victim Count', 'Perpetrator Count', 'Record Source']\n"
          ],
          "name": "stdout"
        }
      ]
    },
    {
      "cell_type": "code",
      "metadata": {
        "colab": {
          "base_uri": "https://localhost:8080/",
          "height": 127
        },
        "id": "pnUPnB4eKlee",
        "outputId": "f459bca5-10e8-40ee-df3a-f915794e204a"
      },
      "source": [
        "np.random.seed(42)\n",
        "\n",
        "data_orig_sex_train, data_orig_sex_test = data_orig_sex.split([0.7], shuffle=True)\n",
        "\n",
        "display(Markdown(\"#### Train Dataset shape\"))\n",
        "print(\"Perpetrator Sex :\",data_orig_sex_train.features.shape)\n",
        "display(Markdown(\"#### Test Dataset shape\"))\n",
        "print(\"Perpetrator Sex :\",data_orig_sex_test.features.shape)"
      ],
      "execution_count": null,
      "outputs": [
        {
          "output_type": "display_data",
          "data": {
            "text/markdown": "#### Train Dataset shape",
            "text/plain": [
              "<IPython.core.display.Markdown object>"
            ]
          },
          "metadata": {
            "tags": []
          }
        },
        {
          "output_type": "stream",
          "text": [
            "Perpetrator Sex : (313720, 20)\n"
          ],
          "name": "stdout"
        },
        {
          "output_type": "display_data",
          "data": {
            "text/markdown": "#### Test Dataset shape",
            "text/plain": [
              "<IPython.core.display.Markdown object>"
            ]
          },
          "metadata": {
            "tags": []
          }
        },
        {
          "output_type": "stream",
          "text": [
            "Perpetrator Sex : (134452, 20)\n"
          ],
          "name": "stdout"
        }
      ]
    },
    {
      "cell_type": "code",
      "metadata": {
        "id": "Ljp_2zFTLU6X"
      },
      "source": [
        "from sklearn.ensemble import RandomForestClassifier"
      ],
      "execution_count": null,
      "outputs": []
    },
    {
      "cell_type": "code",
      "metadata": {
        "id": "nWD0Ab2HK3fN"
      },
      "source": [
        "rf_orig_sex = RandomForestClassifier().fit(data_orig_sex_train.features, \n",
        "                     data_orig_sex_train.labels.ravel(), \n",
        "                     sample_weight=data_orig_sex_train.instance_weights)"
      ],
      "execution_count": null,
      "outputs": []
    },
    {
      "cell_type": "code",
      "metadata": {
        "id": "1DvNQv6ELNVB"
      },
      "source": [
        "X_test_sex = data_orig_sex_test.features\n",
        "y_test_sex = data_orig_sex_test.labels.ravel()"
      ],
      "execution_count": null,
      "outputs": []
    },
    {
      "cell_type": "code",
      "metadata": {
        "id": "f1UP8IFCMJkV"
      },
      "source": [
        "from sklearn.metrics import confusion_matrix, accuracy_score, f1_score, roc_curve, auc\n",
        "import matplotlib.pyplot as plt\n",
        "import seaborn as sns"
      ],
      "execution_count": null,
      "outputs": []
    },
    {
      "cell_type": "code",
      "metadata": {
        "id": "52u53dXXL0Zp"
      },
      "source": [
        "def get_model_performance(X_test, y_true, y_pred, probs):\n",
        "    accuracy = accuracy_score(y_true, y_pred)\n",
        "    matrix = confusion_matrix(y_true, y_pred)\n",
        "    f1 = f1_score(y_true, y_pred)\n",
        "    preds = probs[:, 1]\n",
        "    fpr, tpr, threshold = roc_curve(y_true, preds)\n",
        "    roc_auc = auc(fpr, tpr)\n",
        "\n",
        "    return accuracy, matrix, f1, fpr, tpr, roc_auc\n",
        "\n",
        "def plot_model_performance(model, X_test, y_true):\n",
        "    y_pred = model.predict(X_test)\n",
        "    probs = model.predict_proba(X_test)\n",
        "    accuracy, matrix, f1, fpr, tpr, roc_auc = get_model_performance(X_test, y_true, y_pred, probs)\n",
        "\n",
        "    display(Markdown('#### Accuracy of the model :'))\n",
        "    print(accuracy)\n",
        "    display(Markdown('#### F1 score of the model :'))\n",
        "    print(f1)\n",
        "\n",
        "    fig = plt.figure(figsize=(15, 6))\n",
        "    ax = fig.add_subplot(1, 2, 1)\n",
        "    sns.heatmap(matrix, annot=True, cmap='Blues', fmt='g')\n",
        "    plt.title('Confusion Matrix')\n",
        "\n",
        "    ax = fig.add_subplot(1, 2, 2)\n",
        "    lw = 2\n",
        "    plt.plot(fpr, tpr, color='darkorange', lw=lw, label='ROC curve (area = %0.2f)' % roc_auc)\n",
        "    plt.plot([0, 1], [0, 1], color='navy', lw=lw, linestyle='--')\n",
        "    plt.xlim([0.0, 1.0])\n",
        "    plt.ylim([0.0, 1.05])\n",
        "    plt.xlabel('False Positive Rate')\n",
        "    plt.ylabel('True Positive Rate')\n",
        "    plt.title('Receiver Operating Characteristic curve')\n",
        "    plt.legend(loc=\"lower right\")"
      ],
      "execution_count": null,
      "outputs": []
    },
    {
      "cell_type": "code",
      "metadata": {
        "colab": {
          "base_uri": "https://localhost:8080/",
          "height": 513
        },
        "id": "OtVdHCxJL5OC",
        "outputId": "416e8415-9793-499f-d9cd-4b4153bfb3e3"
      },
      "source": [
        "plot_model_performance(rf_orig_sex, data_orig_sex_test.features, y_test_sex)\n"
      ],
      "execution_count": null,
      "outputs": [
        {
          "output_type": "display_data",
          "data": {
            "text/markdown": "#### Accuracy of the model :",
            "text/plain": [
              "<IPython.core.display.Markdown object>"
            ]
          },
          "metadata": {
            "tags": []
          }
        },
        {
          "output_type": "stream",
          "text": [
            "0.9340880016660221\n"
          ],
          "name": "stdout"
        },
        {
          "output_type": "display_data",
          "data": {
            "text/markdown": "#### F1 score of the model :",
            "text/plain": [
              "<IPython.core.display.Markdown object>"
            ]
          },
          "metadata": {
            "tags": []
          }
        },
        {
          "output_type": "stream",
          "text": [
            "0.9641197143181044\n"
          ],
          "name": "stdout"
        },
        {
          "output_type": "display_data",
          "data": {
            "image/png": "[encoded data removed]",
            "text/plain": [
              "<Figure size 1080x432 with 3 Axes>"
            ]
          },
          "metadata": {
            "tags": [],
            "needs_background": "light"
          }
        }
      ]
    },
    {
      "cell_type": "code",
      "metadata": {
        "id": "khdAk15rL6uI"
      },
      "source": [
        ""
      ],
      "execution_count": null,
      "outputs": []
    },
    {
      "cell_type": "code",
      "metadata": {
        "id": "DPjimtB4TKsu"
      },
      "source": [
        "## Fairness"
      ],
      "execution_count": null,
      "outputs": []
    },
    {
      "cell_type": "code",
      "metadata": {
        "id": "napASKckTKp_"
      },
      "source": [
        "import random"
      ],
      "execution_count": 101,
      "outputs": []
    },
    {
      "cell_type": "code",
      "metadata": {
        "colab": {
          "base_uri": "https://localhost:8080/"
        },
        "id": "yFHDwEKGXoA-",
        "outputId": "01f445bd-cf63-4065-960b-48910403d78b"
      },
      "source": [
        "random.randint(1,5)"
      ],
      "execution_count": 106,
      "outputs": [
        {
          "output_type": "execute_result",
          "data": {
            "text/plain": [
              "3"
            ]
          },
          "metadata": {
            "tags": []
          },
          "execution_count": 106
        }
      ]
    }
  ]
}